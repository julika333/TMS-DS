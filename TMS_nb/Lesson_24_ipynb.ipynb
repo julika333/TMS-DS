{
  "cells": [
    {
      "cell_type": "markdown",
      "metadata": {
        "id": "view-in-github",
        "colab_type": "text"
      },
      "source": [
        "<a href=\"https://colab.research.google.com/github/julika333/TMS-DS/blob/main/TMS_nb/Lesson_24_ipynb.ipynb\" target=\"_parent\"><img src=\"https://colab.research.google.com/assets/colab-badge.svg\" alt=\"Open In Colab\"/></a>"
      ]
    },
    {
      "cell_type": "markdown",
      "id": "faf51b23",
      "metadata": {
        "toc": true,
        "id": "faf51b23"
      },
      "source": [
        "<h1>Table of Contents<span class=\"tocSkip\"></span></h1>\n",
        "<div class=\"toc\"><ul class=\"toc-item\"><li><span><a href=\"#Загрузка-данных:\" data-toc-modified-id=\"Загрузка-данных:-1\"><span class=\"toc-item-num\">1&nbsp;&nbsp;</span>Загрузка данных:</a></span></li><li><span><a href=\"#Разработка-функции-Map:\" data-toc-modified-id=\"Разработка-функции-Map:-2\"><span class=\"toc-item-num\">2&nbsp;&nbsp;</span>Разработка функции Map:</a></span></li><li><span><a href=\"#Разработка-функции-Reduce:\" data-toc-modified-id=\"Разработка-функции-Reduce:-3\"><span class=\"toc-item-num\">3&nbsp;&nbsp;</span>Разработка функции Reduce:</a></span></li><li><span><a href=\"#Реализация-Map-Reduce:\" data-toc-modified-id=\"Реализация-Map-Reduce:-4\"><span class=\"toc-item-num\">4&nbsp;&nbsp;</span>Реализация Map-Reduce:</a></span></li><li><span><a href=\"#Отображение-результатов:\" data-toc-modified-id=\"Отображение-результатов:-5\"><span class=\"toc-item-num\">5&nbsp;&nbsp;</span>Отображение результатов:</a></span></li><li><span><a href=\"#K-Fold-Cross-Validation\" data-toc-modified-id=\"K-Fold-Cross-Validation-6\"><span class=\"toc-item-num\">6&nbsp;&nbsp;</span>K-Fold Cross Validation</a></span></li><li><span><a href=\"#Stratified-K-Fold-Cross-Validation\" data-toc-modified-id=\"Stratified-K-Fold-Cross-Validation-7\"><span class=\"toc-item-num\">7&nbsp;&nbsp;</span>Stratified K-Fold Cross Validation</a></span></li><li><span><a href=\"#Time-Series-Split\" data-toc-modified-id=\"Time-Series-Split-8\"><span class=\"toc-item-num\">8&nbsp;&nbsp;</span>Time Series Split</a></span></li><li><span><a href=\"#Leave-One-Out-(LOO)\" data-toc-modified-id=\"Leave-One-Out-(LOO)-9\"><span class=\"toc-item-num\">9&nbsp;&nbsp;</span>Leave One Out (LOO)</a></span></li><li><span><a href=\"#Shuffle-Split\" data-toc-modified-id=\"Shuffle-Split-10\"><span class=\"toc-item-num\">10&nbsp;&nbsp;</span>Shuffle Split</a></span></li><li><span><a href=\"#Group-K-Fold\" data-toc-modified-id=\"Group-K-Fold-11\"><span class=\"toc-item-num\">11&nbsp;&nbsp;</span>Group K-Fold</a></span></li><li><span><a href=\"#Dask-Arrays\" data-toc-modified-id=\"Dask-Arrays-12\"><span class=\"toc-item-num\">12&nbsp;&nbsp;</span>Dask Arrays</a></span></li><li><span><a href=\"#Dask-Dataframes\" data-toc-modified-id=\"Dask-Dataframes-13\"><span class=\"toc-item-num\">13&nbsp;&nbsp;</span>Dask Dataframes</a></span></li><li><span><a href=\"#Dask-Bags\" data-toc-modified-id=\"Dask-Bags-14\"><span class=\"toc-item-num\">14&nbsp;&nbsp;</span>Dask Bags</a></span></li><li><span><a href=\"#Dask-Delayed\" data-toc-modified-id=\"Dask-Delayed-15\"><span class=\"toc-item-num\">15&nbsp;&nbsp;</span>Dask Delayed</a></span></li><li><span><a href=\"#Dask-для-машинного-обучения\" data-toc-modified-id=\"Dask-для-машинного-обучения-16\"><span class=\"toc-item-num\">16&nbsp;&nbsp;</span>Dask для машинного обучения</a></span></li><li><span><a href=\"#Dask-Distributed\" data-toc-modified-id=\"Dask-Distributed-17\"><span class=\"toc-item-num\">17&nbsp;&nbsp;</span>Dask Distributed</a></span></li></ul></div>"
      ]
    },
    {
      "cell_type": "markdown",
      "id": "d3168fc1",
      "metadata": {
        "id": "d3168fc1"
      },
      "source": [
        "# Практическое задание: Map-Reduce и подсчет слов\n",
        "\n",
        "Цель: Использовать концепцию Map-Reduce для подсчета частоты слов в большом наборе текстовых документов.\n",
        "\n",
        "Шаги:\n",
        "\n",
        "Подготовка данных:\n",
        "\n",
        "Скачайте или подготовьте большой текстовый файл (или несколько файлов). Пример источника: произведения с Project Gutenberg.\n",
        "Разработка функции Map:\n",
        "\n",
        "Ваша функция Map должна принимать строку текста (или абзац) и возвращать список пар \"ключ-значение\", где ключ - это слово, а значение - это 1 (поскольку каждое слово встречается один раз в данной строке или абзаце).\n",
        "Разработка функции Reduce:\n",
        "\n",
        "Ваша функция Reduce должна принимать ключ и соответствующий ему список значений (количество вхождений слова) и возвращать общее количество для данного ключа (слова).\n",
        "Реализация Map-Reduce:\n",
        "\n",
        "Пройдитесь по вашему текстовому файлу строку за строкой (или абзац за абзацем).\n",
        "Примените функцию Map ко всем строкам/абзацам.\n",
        "Сгруппируйте результаты по ключам (словам).\n",
        "Примените функцию Reduce к каждому уникальному слову и его значениям.\n",
        "Отображение результатов:\n",
        "\n",
        "Выведите топ-N наиболее часто встречающихся слов и их количество."
      ]
    },
    {
      "cell_type": "markdown",
      "id": "3f858c4a",
      "metadata": {
        "id": "3f858c4a"
      },
      "source": [
        "## Загрузка данных:"
      ]
    },
    {
      "cell_type": "code",
      "execution_count": null,
      "id": "f33ee522",
      "metadata": {
        "ExecuteTime": {
          "end_time": "2023-08-24T15:45:35.644744Z",
          "start_time": "2023-08-24T15:45:28.397204Z"
        },
        "id": "f33ee522"
      },
      "outputs": [],
      "source": [
        "import requests\n",
        "\n",
        "url = \"https://www.gutenberg.org/files/2554/2554-0.txt\"\n",
        "response = requests.get(url)\n",
        "\n",
        "# Проверим, что запрос прошел успешно\n",
        "response.raise_for_status()\n",
        "\n",
        "# Сохраняем данные в файл\n",
        "with open(\"crime_and_punishment.txt\", \"w\", encoding=\"utf-8\") as file:\n",
        "    file.write(response.text)\n",
        "\n",
        "# Чтение данных\n",
        "with open(\"crime_and_punishment.txt\", \"r\", encoding=\"utf-8\") as file:\n",
        "    data = file.readlines()\n"
      ]
    },
    {
      "cell_type": "markdown",
      "id": "37120361",
      "metadata": {
        "id": "37120361"
      },
      "source": [
        "## Разработка функции Map:"
      ]
    },
    {
      "cell_type": "code",
      "execution_count": null,
      "id": "0a204efd",
      "metadata": {
        "ExecuteTime": {
          "end_time": "2023-08-24T15:45:35.660736Z",
          "start_time": "2023-08-24T15:45:35.646718Z"
        },
        "id": "0a204efd"
      },
      "outputs": [],
      "source": [
        "import string\n",
        "\n",
        "def map_function(text):\n",
        "    # Преобразование текста в нижний регистр и удаление знаков препинания\n",
        "    text = text.lower().translate(str.maketrans('', '', string.punctuation))\n",
        "    words = text.split()\n",
        "    return [(word, 1) for word in words]\n"
      ]
    },
    {
      "cell_type": "markdown",
      "id": "7c198a4c",
      "metadata": {
        "id": "7c198a4c"
      },
      "source": [
        "## Разработка функции Reduce:"
      ]
    },
    {
      "cell_type": "code",
      "execution_count": null,
      "id": "1a4b4d25",
      "metadata": {
        "ExecuteTime": {
          "end_time": "2023-08-24T15:45:35.675718Z",
          "start_time": "2023-08-24T15:45:35.662718Z"
        },
        "id": "1a4b4d25"
      },
      "outputs": [],
      "source": [
        "from collections import defaultdict\n",
        "\n",
        "def reduce_function(mapped_data):\n",
        "    reduced_data = defaultdict(int)\n",
        "    for word, count in mapped_data:\n",
        "        reduced_data[word] += count\n",
        "    return reduced_data\n"
      ]
    },
    {
      "cell_type": "markdown",
      "id": "dd38feb1",
      "metadata": {
        "id": "dd38feb1"
      },
      "source": [
        "## Реализация Map-Reduce:"
      ]
    },
    {
      "cell_type": "code",
      "execution_count": null,
      "id": "0df4b084",
      "metadata": {
        "ExecuteTime": {
          "end_time": "2023-08-24T15:45:35.893755Z",
          "start_time": "2023-08-24T15:45:35.677718Z"
        },
        "id": "0df4b084"
      },
      "outputs": [],
      "source": [
        "mapped_results = []\n",
        "\n",
        "for line in data:\n",
        "    mapped_results.extend(map_function(line))\n",
        "\n",
        "reduced_results = reduce_function(mapped_results)\n"
      ]
    },
    {
      "cell_type": "markdown",
      "id": "21777399",
      "metadata": {
        "id": "21777399"
      },
      "source": [
        "## Отображение результатов:"
      ]
    },
    {
      "cell_type": "code",
      "execution_count": null,
      "id": "be467a1b",
      "metadata": {
        "ExecuteTime": {
          "end_time": "2023-08-24T15:45:35.909719Z",
          "start_time": "2023-08-24T15:45:35.894718Z"
        },
        "id": "be467a1b",
        "outputId": "39912410-4a44-4e34-81e5-0a70dc232c1f"
      },
      "outputs": [
        {
          "name": "stdout",
          "output_type": "stream",
          "text": [
            "the: 7940\n",
            "and: 6786\n",
            "to: 5302\n",
            "a: 4580\n",
            "he: 4580\n",
            "of: 3894\n",
            "you: 3550\n",
            "i: 3502\n",
            "in: 3208\n",
            "that: 2813\n"
          ]
        }
      ],
      "source": [
        "def display_top_n_words(data, n):\n",
        "    sorted_data = sorted(data.items(), key=lambda x: x[1], reverse=True)\n",
        "    for word, count in sorted_data[:n]:\n",
        "        print(f\"{word}: {count}\")\n",
        "\n",
        "# Выведите топ-10 наиболее часто встречающихся слов\n",
        "display_top_n_words(reduced_results, 10)\n"
      ]
    },
    {
      "cell_type": "markdown",
      "id": "a84721bf",
      "metadata": {
        "id": "a84721bf"
      },
      "source": [
        "# Практическое задание: Кросс-валидация в машинном обучении\n",
        "\n",
        "Цель: Использовать кросс-валидацию для оценки эффективности модели машинного обучения на разных подмножествах данных.\n",
        "\n",
        "Шаги:\n",
        "\n",
        "Подготовка данных:\n",
        "\n",
        "Скачайте или подготовьте датасет, который вы планируете использовать. Пример источника: UCI Machine Learning Repository.\n",
        "Разделите датасет на признаки (features) и целевую переменную (target).\n",
        "Выбор модели:\n",
        "\n",
        "Определите тип задачи (классификация, регрессия и т.д.) и выберите соответствующую модель машинного обучения. Например, линейная регрессия для регрессии или деревья решений для классификации.\n",
        "Разработка процедуры кросс-валидации:\n",
        "\n",
        "Определите метод кросс-валидации, который вы хотите использовать (k-fold, stratified, time series split и т.д.).\n",
        "Разделите ваш датасет на подмножества согласно выбранному методу.\n",
        "Оценка модели:\n",
        "\n",
        "Для каждого разделения (или \"фолда\") обучите модель на тренировочных данных и оцените ее на тестовых данных.\n",
        "Сохраните результаты оценки (например, точность, среднеквадратичная ошибка и т.д.) для каждого разделения.\n",
        "Агрегация и анализ результатов:\n",
        "\n",
        "Рассчитайте средний результат и стандартное отклонение по всем фолдам.\n",
        "Анализируйте стабильность модели: если разброс результатов между фолдами большой, модель может быть нестабильной или переобученной.\n",
        "Сравнение моделей (опционально):\n",
        "\n",
        "Повторите процедуру для разных моделей или разных гиперпараметров одной модели.\n",
        "Сравните их результаты, чтобы выбрать наилучшую модель.\n",
        "Рекомендации:\n",
        "\n",
        "Для больших датасетов учитывайте временные затраты на обучение модели и возможно уменьшите количество фолдов.\n",
        "В случае несбалансированных датасетов рассмотрите использование стратифицированной кросс-валидации.\n",
        "Оценка результата:\n",
        "\n",
        "Проверьте, какие модели или гиперпараметры показали наилучшие результаты на кросс-валидации.\n",
        "Обсудите возможные причины различий в результатах и рассмотрите дополнительные методы регуляризации или настройки модели для улучшения результатов.\n",
        "Это задание поможет вам понять преимущества и ограничения кросс-валидации, а также научит использовать этот метод для выбора оптимальной модели машинного обучения."
      ]
    },
    {
      "cell_type": "code",
      "execution_count": null,
      "id": "bd4e893d",
      "metadata": {
        "ExecuteTime": {
          "end_time": "2023-08-24T15:45:37.005716Z",
          "start_time": "2023-08-24T15:45:35.911716Z"
        },
        "id": "bd4e893d",
        "outputId": "e54201a5-d121-4341-9904-e857c7926222"
      },
      "outputs": [
        {
          "name": "stdout",
          "output_type": "stream",
          "text": [
            "Средний результат на кросс-валидации: 0.97\n",
            "Стандартное отклонение: 0.02\n"
          ]
        }
      ],
      "source": [
        "# Импорт необходимых библиотек\n",
        "from sklearn.datasets import load_iris\n",
        "from sklearn.model_selection import train_test_split, cross_val_score\n",
        "from sklearn.linear_model import LogisticRegression\n",
        "from sklearn.metrics import accuracy_score\n",
        "import numpy as np\n",
        "\n",
        "# 1. Подготовка данных\n",
        "\n",
        "# Загрузка датасета\n",
        "iris = load_iris()\n",
        "X, y = iris.data, iris.target\n",
        "\n",
        "# 2. Выбор модели\n",
        "model = LogisticRegression(max_iter=200)\n",
        "\n",
        "# 3. Разработка процедуры кросс-валидации\n",
        "cv_method = 'k-fold'\n",
        "k = 5\n",
        "\n",
        "# 4. Оценка модели\n",
        "scores = cross_val_score(model, X, y, cv=k)\n",
        "\n",
        "# 5. Агрегация и анализ результатов\n",
        "mean_score = np.mean(scores)\n",
        "std_deviation = np.std(scores)\n",
        "\n",
        "print(f\"Средний результат на кросс-валидации: {mean_score:.2f}\")\n",
        "print(f\"Стандартное отклонение: {std_deviation:.2f}\")\n",
        "\n",
        "# 6. Сравнение моделей (опционально)\n",
        "# Повторите предыдущие этапы для других моделей, например, RandomForest и сравните результаты\n",
        "\n",
        "# 7. Рекомендации и оценка результата\n",
        "# Основываясь на результатах, выберите лучшую модель и рассмотрите возможность дальнейшей настройки.\n",
        "\n"
      ]
    },
    {
      "cell_type": "markdown",
      "id": "1cd08248",
      "metadata": {
        "id": "1cd08248"
      },
      "source": [
        "## K-Fold Cross Validation"
      ]
    },
    {
      "cell_type": "code",
      "execution_count": null,
      "id": "fbb1afd2",
      "metadata": {
        "ExecuteTime": {
          "end_time": "2023-08-24T15:45:37.101748Z",
          "start_time": "2023-08-24T15:45:37.006716Z"
        },
        "id": "fbb1afd2",
        "outputId": "26f43ba5-7ab8-4896-fa12-e4cc901e192d"
      },
      "outputs": [
        {
          "name": "stdout",
          "output_type": "stream",
          "text": [
            "K-Fold CV Scores: [1.         1.         0.86666667 0.93333333 0.83333333]\n",
            "Average Score: 0.9266666666666665\n"
          ]
        }
      ],
      "source": [
        "from sklearn.model_selection import KFold\n",
        "\n",
        "kf = KFold(n_splits=5)\n",
        "scores = cross_val_score(model, X, y, cv=kf)\n",
        "\n",
        "print(\"K-Fold CV Scores:\", scores)\n",
        "print(\"Average Score:\", scores.mean())\n"
      ]
    },
    {
      "cell_type": "markdown",
      "id": "0e683a9a",
      "metadata": {
        "id": "0e683a9a"
      },
      "source": [
        "## Stratified K-Fold Cross Validation\n",
        "Этот метод учитывает распределение классов, чтобы в каждом фолде было примерно одинаковое распределение классов."
      ]
    },
    {
      "cell_type": "code",
      "execution_count": null,
      "id": "37addd8d",
      "metadata": {
        "ExecuteTime": {
          "end_time": "2023-08-24T15:45:37.178747Z",
          "start_time": "2023-08-24T15:45:37.102746Z"
        },
        "id": "37addd8d",
        "outputId": "ff5f0702-27dd-4f7b-f9cd-eac00349cdcc"
      },
      "outputs": [
        {
          "name": "stdout",
          "output_type": "stream",
          "text": [
            "Stratified K-Fold CV Scores: [0.96666667 1.         0.93333333 0.96666667 1.        ]\n",
            "Average Score: 0.9733333333333334\n"
          ]
        }
      ],
      "source": [
        "from sklearn.model_selection import StratifiedKFold\n",
        "\n",
        "skf = StratifiedKFold(n_splits=5)\n",
        "scores = cross_val_score(model, X, y, cv=skf)\n",
        "\n",
        "print(\"Stratified K-Fold CV Scores:\", scores)\n",
        "print(\"Average Score:\", scores.mean())\n"
      ]
    },
    {
      "cell_type": "markdown",
      "id": "7c2e2fe9",
      "metadata": {
        "id": "7c2e2fe9"
      },
      "source": [
        "## Time Series Split\n",
        "Полезно, когда у вас есть временные ряды и вы не хотите нарушать временную последовательность данных."
      ]
    },
    {
      "cell_type": "code",
      "execution_count": null,
      "id": "d9653b14",
      "metadata": {
        "ExecuteTime": {
          "end_time": "2023-08-24T15:45:37.226718Z",
          "start_time": "2023-08-24T15:45:37.180720Z"
        },
        "id": "d9653b14",
        "outputId": "cbb5c5b6-f00a-4aae-a67a-790e301e56fb"
      },
      "outputs": [
        {
          "name": "stdout",
          "output_type": "stream",
          "text": [
            "Time Series Split CV Scores: [ nan  nan 1.   0.   0.84]\n",
            "Average Score: nan\n"
          ]
        },
        {
          "name": "stderr",
          "output_type": "stream",
          "text": [
            "C:\\Users\\Sidromnik\\.conda\\envs\\TeachMeSkills\\lib\\site-packages\\sklearn\\model_selection\\_validation.py:378: FitFailedWarning: \n",
            "2 fits failed out of a total of 5.\n",
            "The score on these train-test partitions for these parameters will be set to nan.\n",
            "If these failures are not expected, you can try to debug them by setting error_score='raise'.\n",
            "\n",
            "Below are more details about the failures:\n",
            "--------------------------------------------------------------------------------\n",
            "2 fits failed with the following error:\n",
            "Traceback (most recent call last):\n",
            "  File \"C:\\Users\\Sidromnik\\.conda\\envs\\TeachMeSkills\\lib\\site-packages\\sklearn\\model_selection\\_validation.py\", line 686, in _fit_and_score\n",
            "    estimator.fit(X_train, y_train, **fit_params)\n",
            "  File \"C:\\Users\\Sidromnik\\.conda\\envs\\TeachMeSkills\\lib\\site-packages\\sklearn\\linear_model\\_logistic.py\", line 1241, in fit\n",
            "    raise ValueError(\n",
            "ValueError: This solver needs samples of at least 2 classes in the data, but the data contains only one class: 0\n",
            "\n",
            "  warnings.warn(some_fits_failed_message, FitFailedWarning)\n"
          ]
        }
      ],
      "source": [
        "from sklearn.model_selection import TimeSeriesSplit\n",
        "\n",
        "# Этот пример может не быть совсем релевантным для датасета Iris, так как это не временной ряд.\n",
        "tscv = TimeSeriesSplit(n_splits=5)\n",
        "scores = cross_val_score(model, X, y, cv=tscv)\n",
        "\n",
        "print(\"Time Series Split CV Scores:\", scores)\n",
        "print(\"Average Score:\", scores.mean())\n"
      ]
    },
    {
      "cell_type": "markdown",
      "id": "a57eea25",
      "metadata": {
        "id": "a57eea25"
      },
      "source": [
        "## Leave One Out (LOO)\n",
        "Каждое наблюдение используется как тестовый набор ровно один раз."
      ]
    },
    {
      "cell_type": "code",
      "execution_count": null,
      "id": "f6c7e86f",
      "metadata": {
        "ExecuteTime": {
          "end_time": "2023-08-24T15:45:39.396717Z",
          "start_time": "2023-08-24T15:45:37.229718Z"
        },
        "id": "f6c7e86f",
        "outputId": "63ac59a6-a319-43ed-c554-5722a7631cb6"
      },
      "outputs": [
        {
          "name": "stdout",
          "output_type": "stream",
          "text": [
            "Leave One Out CV Scores: [1. 1. 1. 1. 1. 1. 1. 1. 1. 1. 1. 1. 1. 1. 1. 1. 1. 1. 1. 1. 1. 1. 1. 1.\n",
            " 1. 1. 1. 1. 1. 1. 1. 1. 1. 1. 1. 1. 1. 1. 1. 1. 1. 1. 1. 1. 1. 1. 1. 1.\n",
            " 1. 1. 1. 1. 1. 1. 1. 1. 1. 1. 1. 1. 1. 1. 1. 1. 1. 1. 1. 1. 1. 1. 0. 1.\n",
            " 1. 1. 1. 1. 1. 0. 1. 1. 1. 1. 1. 0. 1. 1. 1. 1. 1. 1. 1. 1. 1. 1. 1. 1.\n",
            " 1. 1. 1. 1. 1. 1. 1. 1. 1. 1. 0. 1. 1. 1. 1. 1. 1. 1. 1. 1. 1. 1. 1. 0.\n",
            " 1. 1. 1. 1. 1. 1. 1. 1. 1. 1. 1. 1. 1. 1. 1. 1. 1. 1. 1. 1. 1. 1. 1. 1.\n",
            " 1. 1. 1. 1. 1. 1.]\n",
            "Average Score: 0.9666666666666667\n"
          ]
        }
      ],
      "source": [
        "from sklearn.model_selection import LeaveOneOut\n",
        "\n",
        "loo = LeaveOneOut()\n",
        "scores = cross_val_score(model, X, y, cv=loo)\n",
        "\n",
        "print(\"Leave One Out CV Scores:\", scores)\n",
        "print(\"Average Score:\", scores.mean())\n"
      ]
    },
    {
      "cell_type": "markdown",
      "id": "0edc4277",
      "metadata": {
        "id": "0edc4277"
      },
      "source": [
        "## Shuffle Split\n",
        "Генерирует случайные перестановки многократно."
      ]
    },
    {
      "cell_type": "code",
      "execution_count": null,
      "id": "f23e9094",
      "metadata": {
        "ExecuteTime": {
          "end_time": "2023-08-24T15:45:39.473716Z",
          "start_time": "2023-08-24T15:45:39.398747Z"
        },
        "id": "f23e9094",
        "outputId": "7610abcd-3038-4929-f484-0d2effe941a8"
      },
      "outputs": [
        {
          "name": "stdout",
          "output_type": "stream",
          "text": [
            "Shuffle Split CV Scores: [0.97368421 0.94736842 0.97368421 1.         0.94736842]\n",
            "Average Score: 0.968421052631579\n"
          ]
        }
      ],
      "source": [
        "from sklearn.model_selection import ShuffleSplit\n",
        "\n",
        "ss = ShuffleSplit(n_splits=5, test_size=0.25)\n",
        "scores = cross_val_score(model, X, y, cv=ss)\n",
        "\n",
        "print(\"Shuffle Split CV Scores:\", scores)\n",
        "print(\"Average Score:\", scores.mean())\n"
      ]
    },
    {
      "cell_type": "markdown",
      "id": "2d9b5be5",
      "metadata": {
        "id": "2d9b5be5"
      },
      "source": [
        "## Group K-Fold\n",
        "Если у вас есть группы в данных и вы не хотите, чтобы одна и та же группа была в тренировочном и тестовом наборе."
      ]
    },
    {
      "cell_type": "code",
      "execution_count": null,
      "id": "04cfe9d7",
      "metadata": {
        "ExecuteTime": {
          "end_time": "2023-08-24T15:45:39.551716Z",
          "start_time": "2023-08-24T15:45:39.475715Z"
        },
        "id": "04cfe9d7",
        "outputId": "900b87ae-c32f-4de2-b7a2-f3ea2df5cc68"
      },
      "outputs": [
        {
          "name": "stdout",
          "output_type": "stream",
          "text": [
            "Group K-Fold CV Scores: [1.         0.96666667 0.93333333 1.         0.96666667]\n",
            "Average Score: 0.9733333333333334\n"
          ]
        }
      ],
      "source": [
        "from sklearn.model_selection import GroupKFold\n",
        "\n",
        "# Для этого примера, мы будем использовать группы как дополнительный массив.\n",
        "# Это может не быть совсем релевантным для датасета Iris без реальных групп.\n",
        "groups = np.arange(len(X)) // 10  # Просто пример группировки\n",
        "gkf = GroupKFold(n_splits=5)\n",
        "scores = cross_val_score(model, X, y, groups=groups, cv=gkf)\n",
        "\n",
        "print(\"Group K-Fold CV Scores:\", scores)\n",
        "print(\"Average Score:\", scores.mean())\n"
      ]
    },
    {
      "cell_type": "markdown",
      "id": "d4a42b12",
      "metadata": {
        "id": "d4a42b12"
      },
      "source": [
        "Для каждого из этих методов вы можете анализировать scores чтобы получить представление о производительности вашей модели."
      ]
    },
    {
      "cell_type": "markdown",
      "id": "8b794789",
      "metadata": {
        "id": "8b794789"
      },
      "source": [
        "# Бонус"
      ]
    },
    {
      "cell_type": "markdown",
      "id": "120fb806",
      "metadata": {
        "id": "120fb806"
      },
      "source": [
        "Dask — это библиотека параллельных вычислений для Python, позволяющая эффективно работать с очень большими датасетами. Dask предоставляет многопоточные и многопроцессные исполнители, которые можно использовать для вычислений на локальной машине, а также предоставляет возможность распределенных вычислений на кластерах.\n",
        "\n",
        "Вот несколько основных способов использования Dask для обработки больших данны"
      ]
    },
    {
      "cell_type": "code",
      "execution_count": null,
      "id": "4d1e97a5",
      "metadata": {
        "ExecuteTime": {
          "end_time": "2023-08-24T15:50:41.143742Z",
          "start_time": "2023-08-24T15:50:41.129743Z"
        },
        "id": "4d1e97a5"
      },
      "outputs": [],
      "source": [
        "#!conda install -c conda-forge dask\n"
      ]
    },
    {
      "cell_type": "markdown",
      "id": "f114b477",
      "metadata": {
        "id": "f114b477"
      },
      "source": [
        " ## Dask Arrays\n",
        "dask.array — это библиотека для массивов, подобных NumPy, которая разбивает большой массив на множество маленьких массивов."
      ]
    },
    {
      "cell_type": "code",
      "execution_count": null,
      "id": "af41fb38",
      "metadata": {
        "ExecuteTime": {
          "end_time": "2023-08-24T15:50:42.333953Z",
          "start_time": "2023-08-24T15:50:42.320950Z"
        },
        "id": "af41fb38"
      },
      "outputs": [],
      "source": [
        "import dask.array as da\n",
        "\n",
        "# Создаем большой массив, разбитый на части размером 1000x1000\n",
        "x = da.random.random((10000, 10000), chunks=(1000, 1000))\n"
      ]
    },
    {
      "cell_type": "markdown",
      "id": "5a41f7ea",
      "metadata": {
        "id": "5a41f7ea"
      },
      "source": [
        "## Dask Dataframes\n",
        "dask.dataframe — это библиотека для таблиц, подобных Pandas, которая разбивает большую таблицу на множество маленьких таблиц."
      ]
    },
    {
      "cell_type": "markdown",
      "id": "965157b5",
      "metadata": {
        "id": "965157b5"
      },
      "source": [
        "url=\"https://dataverse.harvard.edu/dataset.xhtml?persistentId=doi:10.7910/DVN/HG7NV7\""
      ]
    },
    {
      "cell_type": "code",
      "execution_count": null,
      "id": "2a5935e2",
      "metadata": {
        "ExecuteTime": {
          "end_time": "2023-08-24T15:53:25.898975Z",
          "start_time": "2023-08-24T15:53:24.649965Z"
        },
        "scrolled": false,
        "id": "2a5935e2",
        "outputId": "5af43ddf-c63f-449d-d5c8-2ecdce37a956"
      },
      "outputs": [
        {
          "data": {
            "text/html": [
              "<div>\n",
              "<style scoped>\n",
              "    .dataframe tbody tr th:only-of-type {\n",
              "        vertical-align: middle;\n",
              "    }\n",
              "\n",
              "    .dataframe tbody tr th {\n",
              "        vertical-align: top;\n",
              "    }\n",
              "\n",
              "    .dataframe thead th {\n",
              "        text-align: right;\n",
              "    }\n",
              "</style>\n",
              "<table border=\"1\" class=\"dataframe\">\n",
              "  <thead>\n",
              "    <tr style=\"text-align: right;\">\n",
              "      <th></th>\n",
              "      <th>Year</th>\n",
              "      <th>Month</th>\n",
              "      <th>DayofMonth</th>\n",
              "      <th>DayOfWeek</th>\n",
              "      <th>DepTime</th>\n",
              "      <th>CRSDepTime</th>\n",
              "      <th>ArrTime</th>\n",
              "      <th>CRSArrTime</th>\n",
              "      <th>UniqueCarrier</th>\n",
              "      <th>FlightNum</th>\n",
              "      <th>...</th>\n",
              "      <th>TaxiIn</th>\n",
              "      <th>TaxiOut</th>\n",
              "      <th>Cancelled</th>\n",
              "      <th>CancellationCode</th>\n",
              "      <th>Diverted</th>\n",
              "      <th>CarrierDelay</th>\n",
              "      <th>WeatherDelay</th>\n",
              "      <th>NASDelay</th>\n",
              "      <th>SecurityDelay</th>\n",
              "      <th>LateAircraftDelay</th>\n",
              "    </tr>\n",
              "  </thead>\n",
              "  <tbody>\n",
              "    <tr>\n",
              "      <th>0</th>\n",
              "      <td>2008</td>\n",
              "      <td>1</td>\n",
              "      <td>3</td>\n",
              "      <td>4</td>\n",
              "      <td>1343.0</td>\n",
              "      <td>1325</td>\n",
              "      <td>1451.0</td>\n",
              "      <td>1435</td>\n",
              "      <td>WN</td>\n",
              "      <td>588</td>\n",
              "      <td>...</td>\n",
              "      <td>4.0</td>\n",
              "      <td>9.0</td>\n",
              "      <td>0</td>\n",
              "      <td>NaN</td>\n",
              "      <td>0</td>\n",
              "      <td>16.0</td>\n",
              "      <td>0.0</td>\n",
              "      <td>0.0</td>\n",
              "      <td>0.0</td>\n",
              "      <td>0.0</td>\n",
              "    </tr>\n",
              "    <tr>\n",
              "      <th>1</th>\n",
              "      <td>2008</td>\n",
              "      <td>1</td>\n",
              "      <td>3</td>\n",
              "      <td>4</td>\n",
              "      <td>1125.0</td>\n",
              "      <td>1120</td>\n",
              "      <td>1247.0</td>\n",
              "      <td>1245</td>\n",
              "      <td>WN</td>\n",
              "      <td>1343</td>\n",
              "      <td>...</td>\n",
              "      <td>3.0</td>\n",
              "      <td>8.0</td>\n",
              "      <td>0</td>\n",
              "      <td>NaN</td>\n",
              "      <td>0</td>\n",
              "      <td>NaN</td>\n",
              "      <td>NaN</td>\n",
              "      <td>NaN</td>\n",
              "      <td>NaN</td>\n",
              "      <td>NaN</td>\n",
              "    </tr>\n",
              "    <tr>\n",
              "      <th>2</th>\n",
              "      <td>2008</td>\n",
              "      <td>1</td>\n",
              "      <td>3</td>\n",
              "      <td>4</td>\n",
              "      <td>2009.0</td>\n",
              "      <td>2015</td>\n",
              "      <td>2136.0</td>\n",
              "      <td>2140</td>\n",
              "      <td>WN</td>\n",
              "      <td>3841</td>\n",
              "      <td>...</td>\n",
              "      <td>2.0</td>\n",
              "      <td>14.0</td>\n",
              "      <td>0</td>\n",
              "      <td>NaN</td>\n",
              "      <td>0</td>\n",
              "      <td>NaN</td>\n",
              "      <td>NaN</td>\n",
              "      <td>NaN</td>\n",
              "      <td>NaN</td>\n",
              "      <td>NaN</td>\n",
              "    </tr>\n",
              "    <tr>\n",
              "      <th>3</th>\n",
              "      <td>2008</td>\n",
              "      <td>1</td>\n",
              "      <td>3</td>\n",
              "      <td>4</td>\n",
              "      <td>903.0</td>\n",
              "      <td>855</td>\n",
              "      <td>1203.0</td>\n",
              "      <td>1205</td>\n",
              "      <td>WN</td>\n",
              "      <td>3</td>\n",
              "      <td>...</td>\n",
              "      <td>5.0</td>\n",
              "      <td>7.0</td>\n",
              "      <td>0</td>\n",
              "      <td>NaN</td>\n",
              "      <td>0</td>\n",
              "      <td>NaN</td>\n",
              "      <td>NaN</td>\n",
              "      <td>NaN</td>\n",
              "      <td>NaN</td>\n",
              "      <td>NaN</td>\n",
              "    </tr>\n",
              "    <tr>\n",
              "      <th>4</th>\n",
              "      <td>2008</td>\n",
              "      <td>1</td>\n",
              "      <td>3</td>\n",
              "      <td>4</td>\n",
              "      <td>1423.0</td>\n",
              "      <td>1400</td>\n",
              "      <td>1726.0</td>\n",
              "      <td>1710</td>\n",
              "      <td>WN</td>\n",
              "      <td>25</td>\n",
              "      <td>...</td>\n",
              "      <td>6.0</td>\n",
              "      <td>10.0</td>\n",
              "      <td>0</td>\n",
              "      <td>NaN</td>\n",
              "      <td>0</td>\n",
              "      <td>16.0</td>\n",
              "      <td>0.0</td>\n",
              "      <td>0.0</td>\n",
              "      <td>0.0</td>\n",
              "      <td>0.0</td>\n",
              "    </tr>\n",
              "  </tbody>\n",
              "</table>\n",
              "<p>5 rows × 29 columns</p>\n",
              "</div>"
            ],
            "text/plain": [
              "   Year  Month  DayofMonth  DayOfWeek  DepTime  CRSDepTime  ArrTime  \\\n",
              "0  2008      1           3          4   1343.0        1325   1451.0   \n",
              "1  2008      1           3          4   1125.0        1120   1247.0   \n",
              "2  2008      1           3          4   2009.0        2015   2136.0   \n",
              "3  2008      1           3          4    903.0         855   1203.0   \n",
              "4  2008      1           3          4   1423.0        1400   1726.0   \n",
              "\n",
              "   CRSArrTime UniqueCarrier  FlightNum  ... TaxiIn  TaxiOut  Cancelled  \\\n",
              "0        1435            WN        588  ...    4.0      9.0          0   \n",
              "1        1245            WN       1343  ...    3.0      8.0          0   \n",
              "2        2140            WN       3841  ...    2.0     14.0          0   \n",
              "3        1205            WN          3  ...    5.0      7.0          0   \n",
              "4        1710            WN         25  ...    6.0     10.0          0   \n",
              "\n",
              "   CancellationCode  Diverted  CarrierDelay WeatherDelay NASDelay  \\\n",
              "0               NaN         0          16.0          0.0      0.0   \n",
              "1               NaN         0           NaN          NaN      NaN   \n",
              "2               NaN         0           NaN          NaN      NaN   \n",
              "3               NaN         0           NaN          NaN      NaN   \n",
              "4               NaN         0          16.0          0.0      0.0   \n",
              "\n",
              "   SecurityDelay  LateAircraftDelay  \n",
              "0            0.0                0.0  \n",
              "1            NaN                NaN  \n",
              "2            NaN                NaN  \n",
              "3            NaN                NaN  \n",
              "4            0.0                0.0  \n",
              "\n",
              "[5 rows x 29 columns]"
            ]
          },
          "execution_count": 22,
          "metadata": {},
          "output_type": "execute_result"
        }
      ],
      "source": [
        "import dask.dataframe as dd\n",
        "\n",
        "dtypes = {\n",
        "    'ActualElapsedTime': 'float64',\n",
        "    'AirTime': 'float64',\n",
        "    'ArrDelay': 'float64',\n",
        "    'ArrTime': 'float64',\n",
        "    'CRSElapsedTime': 'float64',\n",
        "    'CancellationCode': 'object',\n",
        "    'DepDelay': 'float64',\n",
        "    'DepTime': 'float64',\n",
        "    'TaxiIn': 'float64',\n",
        "    'TaxiOut': 'float64'\n",
        "}\n",
        "\n",
        "df = dd.read_csv('2008.csv', dtype=dtypes)\n",
        "df.head()"
      ]
    },
    {
      "cell_type": "code",
      "execution_count": null,
      "id": "6ab216e4",
      "metadata": {
        "ExecuteTime": {
          "end_time": "2023-08-24T15:55:07.006853Z",
          "start_time": "2023-08-24T15:55:04.665607Z"
        },
        "id": "6ab216e4"
      },
      "outputs": [],
      "source": [
        "# Определите числовые столбцы (в зависимости от вашего датасета, этот список может быть другим)\n",
        "numeric_columns = ['ActualElapsedTime', 'Month','AirTime', 'ArrDelay', 'ArrTime', 'CRSElapsedTime',\n",
        "                   'DepDelay', 'DepTime', 'TaxiIn', 'TaxiOut']\n",
        "\n",
        "# Выполняем группировку и вычисление среднего только для числовых столбцов\n",
        "result = df.groupby('Month')[numeric_columns].mean().compute()\n"
      ]
    },
    {
      "cell_type": "code",
      "execution_count": null,
      "id": "79d4d97d",
      "metadata": {
        "ExecuteTime": {
          "end_time": "2023-08-24T15:55:21.375640Z",
          "start_time": "2023-08-24T15:55:21.361642Z"
        },
        "id": "79d4d97d"
      },
      "outputs": [],
      "source": [
        "# Выполняем операции, подобные Pandas\n",
        "# result = df.groupby('Month').mean()"
      ]
    },
    {
      "cell_type": "markdown",
      "id": "1cfc8422",
      "metadata": {
        "id": "1cfc8422"
      },
      "source": [
        "## Dask Bags\n",
        "dask.bag подходит для работы с неструктурированными данными и может эффективно обрабатывать задачи, связанные с преобразованием и агрегацией."
      ]
    },
    {
      "cell_type": "code",
      "execution_count": null,
      "id": "be1f32fc",
      "metadata": {
        "ExecuteTime": {
          "end_time": "2023-08-24T15:55:24.802273Z",
          "start_time": "2023-08-24T15:55:24.785296Z"
        },
        "id": "be1f32fc"
      },
      "outputs": [],
      "source": [
        "import dask.bag as db\n",
        "\n",
        "# Создаем bag из последовательности\n",
        "b = db.from_sequence([1, 2, 3, 4, 5, 6, 7, 8, 9, 10])\n",
        "\n",
        "# Применяем функции к bag\n",
        "result = b.filter(lambda x: x % 2 == 0).map(lambda x: x * 2)\n"
      ]
    },
    {
      "cell_type": "markdown",
      "id": "e0658859",
      "metadata": {
        "ExecuteTime": {
          "end_time": "2023-08-24T15:55:25.373273Z",
          "start_time": "2023-08-24T15:55:25.313270Z"
        },
        "id": "e0658859"
      },
      "source": [
        "## Dask Delayed\n",
        "dask.delayed позволяет автоматически параллелизировать функции."
      ]
    },
    {
      "cell_type": "markdown",
      "id": "e092e252",
      "metadata": {
        "id": "e092e252"
      },
      "source": [
        "## Dask для машинного обучения\n",
        "Dask интегрируется с популярными библиотеками машинного обучения, такими как Scikit-learn. Например, с помощью dask_ml.model_selection вы можете выполнить поиск по сетке с кросс-валидацией на больших датасетах.\n",
        "\n",
        "## Dask Distributed\n",
        "Для работы с большими кластерами можно использовать Dask Distributed, который предоставляет средства для распределенных вычислений."
      ]
    },
    {
      "cell_type": "code",
      "execution_count": null,
      "id": "87d0bf75",
      "metadata": {
        "ExecuteTime": {
          "end_time": "2023-08-24T15:55:46.972278Z",
          "start_time": "2023-08-24T15:55:44.401248Z"
        },
        "id": "87d0bf75"
      },
      "outputs": [],
      "source": [
        "from dask.distributed import Client\n",
        "\n",
        "client = Client()  # создает локальный кластер\n",
        "# Теперь Dask будет автоматически использовать этот кластер для вычислений\n"
      ]
    },
    {
      "cell_type": "markdown",
      "id": "b632ea41",
      "metadata": {
        "id": "b632ea41"
      },
      "source": [
        "Dask является мощным инструментом для работы с большими датасетами и распределенных вычислений в Python. Чтобы получить максимальную выгоду от Dask, рекомендуется изучить документацию и руководства по использованию этой библиотеки."
      ]
    },
    {
      "cell_type": "code",
      "execution_count": null,
      "id": "59fdaeb7",
      "metadata": {
        "ExecuteTime": {
          "end_time": "2023-08-24T15:57:29.472438Z",
          "start_time": "2023-08-24T15:57:21.040845Z"
        },
        "id": "59fdaeb7",
        "outputId": "a128d3c3-bab4-49f6-d117-8b534ecdc708"
      },
      "outputs": [
        {
          "name": "stdout",
          "output_type": "stream",
          "text": [
            "   Year  Month  DayofMonth  DayOfWeek  DepTime  CRSDepTime  ArrTime  \\\n",
            "0  2008      1           3          4   1343.0        1325   1451.0   \n",
            "1  2008      1           3          4   1125.0        1120   1247.0   \n",
            "2  2008      1           3          4   2009.0        2015   2136.0   \n",
            "3  2008      1           3          4    903.0         855   1203.0   \n",
            "4  2008      1           3          4   1423.0        1400   1726.0   \n",
            "\n",
            "   CRSArrTime UniqueCarrier  FlightNum  ... TaxiIn  TaxiOut  Cancelled  \\\n",
            "0        1435            WN        588  ...    4.0      9.0          0   \n",
            "1        1245            WN       1343  ...    3.0      8.0          0   \n",
            "2        2140            WN       3841  ...    2.0     14.0          0   \n",
            "3        1205            WN          3  ...    5.0      7.0          0   \n",
            "4        1710            WN         25  ...    6.0     10.0          0   \n",
            "\n",
            "   CancellationCode  Diverted  CarrierDelay WeatherDelay NASDelay  \\\n",
            "0               NaN         0          16.0          0.0      0.0   \n",
            "1               NaN         0           NaN          NaN      NaN   \n",
            "2               NaN         0           NaN          NaN      NaN   \n",
            "3               NaN         0           NaN          NaN      NaN   \n",
            "4               NaN         0          16.0          0.0      0.0   \n",
            "\n",
            "   SecurityDelay  LateAircraftDelay  \n",
            "0            0.0                0.0  \n",
            "1            NaN                NaN  \n",
            "2            NaN                NaN  \n",
            "3            NaN                NaN  \n",
            "4            0.0                0.0  \n",
            "\n",
            "[5 rows x 29 columns]\n",
            "Среднее время задержки вылета: 11.44 минут\n",
            "Количество отмененных рейсов: 64442\n",
            "Топ-5 маршрутов с максимальными задержками:\n",
            "Origin  Dest\n",
            "SBN     CVG     518.0\n",
            "SDF     SPI     329.0\n",
            "HPN     PIA     298.0\n",
            "TUL     PIA     243.0\n",
            "ONT     SAN     221.0\n",
            "Name: DepDelay, dtype: float64\n"
          ]
        }
      ],
      "source": [
        "import dask.dataframe as dd\n",
        "\n",
        "# Загрузка данных (в качестве примера взята часть данных за 2008 год)\n",
        "df = dd.read_csv('2008.csv')\n",
        "dtypes = {\n",
        "    'ActualElapsedTime': 'float64',\n",
        "    'AirTime': 'float64',\n",
        "    'ArrDelay': 'float64',\n",
        "    'ArrTime': 'float64',\n",
        "    'CRSElapsedTime': 'float64',\n",
        "    'CancellationCode': 'object',\n",
        "    'DepDelay': 'float64',\n",
        "    'DepTime': 'float64',\n",
        "    'TaxiIn': 'float64',\n",
        "    'TaxiOut': 'float64'\n",
        "}\n",
        "\n",
        "df = dd.read_csv('2008.csv', dtype=dtypes)\n",
        "\n",
        "print(df.head())\n",
        "\n",
        "# Вычисляем среднее время задержки вылета\n",
        "mean_delay = df['DepDelay'].mean().compute()\n",
        "print(f\"Среднее время задержки вылета: {mean_delay:.2f} минут\")\n",
        "\n",
        "# Количество отмененных рейсов\n",
        "cancelled_flights = df[df['Cancelled'] == 1].shape[0].compute()\n",
        "print(f\"Количество отмененных рейсов: {cancelled_flights}\")\n",
        "\n",
        "# Топ-5 маршрутов с максимальными задержками\n",
        "top_routes = df.groupby(['Origin', 'Dest'])['DepDelay'].mean().nlargest(5).compute()\n",
        "print(\"Топ-5 маршрутов с максимальными задержками:\")\n",
        "print(top_routes)\n"
      ]
    },
    {
      "cell_type": "code",
      "execution_count": null,
      "id": "087fdd5a",
      "metadata": {
        "id": "087fdd5a"
      },
      "outputs": [],
      "source": []
    }
  ],
  "metadata": {
    "kernelspec": {
      "display_name": "Python 3 (ipykernel)",
      "language": "python",
      "name": "python3"
    },
    "language_info": {
      "codemirror_mode": {
        "name": "ipython",
        "version": 3
      },
      "file_extension": ".py",
      "mimetype": "text/x-python",
      "name": "python",
      "nbconvert_exporter": "python",
      "pygments_lexer": "ipython3",
      "version": "3.10.11"
    },
    "nbTranslate": {
      "displayLangs": [
        "*"
      ],
      "hotkey": "alt-t",
      "langInMainMenu": true,
      "sourceLang": "en",
      "targetLang": "fr",
      "useGoogleTranslate": true
    },
    "toc": {
      "base_numbering": 1,
      "nav_menu": {},
      "number_sections": true,
      "sideBar": true,
      "skip_h1_title": true,
      "title_cell": "Table of Contents",
      "title_sidebar": "Contents",
      "toc_cell": true,
      "toc_position": {},
      "toc_section_display": true,
      "toc_window_display": true
    },
    "varInspector": {
      "cols": {
        "lenName": 16,
        "lenType": 16,
        "lenVar": 40
      },
      "kernels_config": {
        "python": {
          "delete_cmd_postfix": "",
          "delete_cmd_prefix": "del ",
          "library": "var_list.py",
          "varRefreshCmd": "print(var_dic_list())"
        },
        "r": {
          "delete_cmd_postfix": ") ",
          "delete_cmd_prefix": "rm(",
          "library": "var_list.r",
          "varRefreshCmd": "cat(var_dic_list()) "
        }
      },
      "types_to_exclude": [
        "module",
        "function",
        "builtin_function_or_method",
        "instance",
        "_Feature"
      ],
      "window_display": false
    },
    "colab": {
      "provenance": [],
      "include_colab_link": true
    }
  },
  "nbformat": 4,
  "nbformat_minor": 5
}