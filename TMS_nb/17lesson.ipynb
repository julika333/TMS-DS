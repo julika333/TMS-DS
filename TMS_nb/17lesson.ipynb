{
  "nbformat": 4,
  "nbformat_minor": 0,
  "metadata": {
    "colab": {
      "provenance": [],
      "include_colab_link": true
    },
    "kernelspec": {
      "name": "python3",
      "display_name": "Python 3"
    },
    "language_info": {
      "name": "python"
    }
  },
  "cells": [
    {
      "cell_type": "markdown",
      "metadata": {
        "id": "view-in-github",
        "colab_type": "text"
      },
      "source": [
        "<a href=\"https://colab.research.google.com/github/julika333/TMS-DS/blob/main/TMS_nb/17lesson.ipynb\" target=\"_parent\"><img src=\"https://colab.research.google.com/assets/colab-badge.svg\" alt=\"Open In Colab\"/></a>"
      ]
    },
    {
      "cell_type": "code",
      "source": [
        "from sklearn.svm import LinearSVC\n",
        "from sklearn.pipeline import make_pipeline\n",
        "from sklearn.preprocessing import StandardScaler, MinMaxScaler\n",
        "from sklearn.datasets import make_classification\n",
        "X, y = make_classification(n_features=4, random_state=0)\n",
        "clf = make_pipeline(StandardScaler(),\n",
        "                    LinearSVC(random_state=0, tol=1e-5))\n",
        "clf.fit(X, y)"
      ],
      "metadata": {
        "colab": {
          "base_uri": "https://localhost:8080/",
          "height": 126
        },
        "id": "U9pCgqrB5lx5",
        "outputId": "226fcfd1-a6e3-4e69-bac6-9d734a2e3c9d"
      },
      "execution_count": null,
      "outputs": [
        {
          "output_type": "execute_result",
          "data": {
            "text/plain": [
              "Pipeline(steps=[('standardscaler', StandardScaler()),\n",
              "                ('linearsvc', LinearSVC(random_state=0, tol=1e-05))])"
            ],
            "text/html": [
              "<style>#sk-container-id-1 {color: black;background-color: white;}#sk-container-id-1 pre{padding: 0;}#sk-container-id-1 div.sk-toggleable {background-color: white;}#sk-container-id-1 label.sk-toggleable__label {cursor: pointer;display: block;width: 100%;margin-bottom: 0;padding: 0.3em;box-sizing: border-box;text-align: center;}#sk-container-id-1 label.sk-toggleable__label-arrow:before {content: \"▸\";float: left;margin-right: 0.25em;color: #696969;}#sk-container-id-1 label.sk-toggleable__label-arrow:hover:before {color: black;}#sk-container-id-1 div.sk-estimator:hover label.sk-toggleable__label-arrow:before {color: black;}#sk-container-id-1 div.sk-toggleable__content {max-height: 0;max-width: 0;overflow: hidden;text-align: left;background-color: #f0f8ff;}#sk-container-id-1 div.sk-toggleable__content pre {margin: 0.2em;color: black;border-radius: 0.25em;background-color: #f0f8ff;}#sk-container-id-1 input.sk-toggleable__control:checked~div.sk-toggleable__content {max-height: 200px;max-width: 100%;overflow: auto;}#sk-container-id-1 input.sk-toggleable__control:checked~label.sk-toggleable__label-arrow:before {content: \"▾\";}#sk-container-id-1 div.sk-estimator input.sk-toggleable__control:checked~label.sk-toggleable__label {background-color: #d4ebff;}#sk-container-id-1 div.sk-label input.sk-toggleable__control:checked~label.sk-toggleable__label {background-color: #d4ebff;}#sk-container-id-1 input.sk-hidden--visually {border: 0;clip: rect(1px 1px 1px 1px);clip: rect(1px, 1px, 1px, 1px);height: 1px;margin: -1px;overflow: hidden;padding: 0;position: absolute;width: 1px;}#sk-container-id-1 div.sk-estimator {font-family: monospace;background-color: #f0f8ff;border: 1px dotted black;border-radius: 0.25em;box-sizing: border-box;margin-bottom: 0.5em;}#sk-container-id-1 div.sk-estimator:hover {background-color: #d4ebff;}#sk-container-id-1 div.sk-parallel-item::after {content: \"\";width: 100%;border-bottom: 1px solid gray;flex-grow: 1;}#sk-container-id-1 div.sk-label:hover label.sk-toggleable__label {background-color: #d4ebff;}#sk-container-id-1 div.sk-serial::before {content: \"\";position: absolute;border-left: 1px solid gray;box-sizing: border-box;top: 0;bottom: 0;left: 50%;z-index: 0;}#sk-container-id-1 div.sk-serial {display: flex;flex-direction: column;align-items: center;background-color: white;padding-right: 0.2em;padding-left: 0.2em;position: relative;}#sk-container-id-1 div.sk-item {position: relative;z-index: 1;}#sk-container-id-1 div.sk-parallel {display: flex;align-items: stretch;justify-content: center;background-color: white;position: relative;}#sk-container-id-1 div.sk-item::before, #sk-container-id-1 div.sk-parallel-item::before {content: \"\";position: absolute;border-left: 1px solid gray;box-sizing: border-box;top: 0;bottom: 0;left: 50%;z-index: -1;}#sk-container-id-1 div.sk-parallel-item {display: flex;flex-direction: column;z-index: 1;position: relative;background-color: white;}#sk-container-id-1 div.sk-parallel-item:first-child::after {align-self: flex-end;width: 50%;}#sk-container-id-1 div.sk-parallel-item:last-child::after {align-self: flex-start;width: 50%;}#sk-container-id-1 div.sk-parallel-item:only-child::after {width: 0;}#sk-container-id-1 div.sk-dashed-wrapped {border: 1px dashed gray;margin: 0 0.4em 0.5em 0.4em;box-sizing: border-box;padding-bottom: 0.4em;background-color: white;}#sk-container-id-1 div.sk-label label {font-family: monospace;font-weight: bold;display: inline-block;line-height: 1.2em;}#sk-container-id-1 div.sk-label-container {text-align: center;}#sk-container-id-1 div.sk-container {/* jupyter's `normalize.less` sets `[hidden] { display: none; }` but bootstrap.min.css set `[hidden] { display: none !important; }` so we also need the `!important` here to be able to override the default hidden behavior on the sphinx rendered scikit-learn.org. See: https://github.com/scikit-learn/scikit-learn/issues/21755 */display: inline-block !important;position: relative;}#sk-container-id-1 div.sk-text-repr-fallback {display: none;}</style><div id=\"sk-container-id-1\" class=\"sk-top-container\"><div class=\"sk-text-repr-fallback\"><pre>Pipeline(steps=[(&#x27;standardscaler&#x27;, StandardScaler()),\n",
              "                (&#x27;linearsvc&#x27;, LinearSVC(random_state=0, tol=1e-05))])</pre><b>In a Jupyter environment, please rerun this cell to show the HTML representation or trust the notebook. <br />On GitHub, the HTML representation is unable to render, please try loading this page with nbviewer.org.</b></div><div class=\"sk-container\" hidden><div class=\"sk-item sk-dashed-wrapped\"><div class=\"sk-label-container\"><div class=\"sk-label sk-toggleable\"><input class=\"sk-toggleable__control sk-hidden--visually\" id=\"sk-estimator-id-1\" type=\"checkbox\" ><label for=\"sk-estimator-id-1\" class=\"sk-toggleable__label sk-toggleable__label-arrow\">Pipeline</label><div class=\"sk-toggleable__content\"><pre>Pipeline(steps=[(&#x27;standardscaler&#x27;, StandardScaler()),\n",
              "                (&#x27;linearsvc&#x27;, LinearSVC(random_state=0, tol=1e-05))])</pre></div></div></div><div class=\"sk-serial\"><div class=\"sk-item\"><div class=\"sk-estimator sk-toggleable\"><input class=\"sk-toggleable__control sk-hidden--visually\" id=\"sk-estimator-id-2\" type=\"checkbox\" ><label for=\"sk-estimator-id-2\" class=\"sk-toggleable__label sk-toggleable__label-arrow\">StandardScaler</label><div class=\"sk-toggleable__content\"><pre>StandardScaler()</pre></div></div></div><div class=\"sk-item\"><div class=\"sk-estimator sk-toggleable\"><input class=\"sk-toggleable__control sk-hidden--visually\" id=\"sk-estimator-id-3\" type=\"checkbox\" ><label for=\"sk-estimator-id-3\" class=\"sk-toggleable__label sk-toggleable__label-arrow\">LinearSVC</label><div class=\"sk-toggleable__content\"><pre>LinearSVC(random_state=0, tol=1e-05)</pre></div></div></div></div></div></div></div>"
            ]
          },
          "metadata": {},
          "execution_count": 1
        }
      ]
    },
    {
      "cell_type": "code",
      "source": [
        "print(clf.named_steps['linearsvc'].intercept_)\n",
        "print(clf.predict([[0, 0, 0, 0]]))"
      ],
      "metadata": {
        "id": "la3QzBcr5oXE"
      },
      "execution_count": null,
      "outputs": []
    },
    {
      "cell_type": "code",
      "execution_count": null,
      "metadata": {
        "id": "KM5tZN-kk4j1"
      },
      "outputs": [],
      "source": [
        "#Import scikit-learn dataset library\n",
        "from sklearn import datasets\n",
        "\n",
        "#Load dataset\n",
        "cancer = datasets.load_breast_cancer()"
      ]
    },
    {
      "cell_type": "code",
      "source": [
        "# print the names of the 13 features\n",
        "print(\"Features: \", cancer.feature_names)\n",
        "\n",
        "# print the label type of cancer('malignant' 'benign')\n",
        "print(\"Labels: \", cancer.target_names)\n"
      ],
      "metadata": {
        "colab": {
          "base_uri": "https://localhost:8080/"
        },
        "id": "mI15pqMf6DJC",
        "outputId": "3e405d04-d17a-4452-93c8-ccf02f7dcf60"
      },
      "execution_count": null,
      "outputs": [
        {
          "output_type": "stream",
          "name": "stdout",
          "text": [
            "Features:  ['mean radius' 'mean texture' 'mean perimeter' 'mean area'\n",
            " 'mean smoothness' 'mean compactness' 'mean concavity'\n",
            " 'mean concave points' 'mean symmetry' 'mean fractal dimension'\n",
            " 'radius error' 'texture error' 'perimeter error' 'area error'\n",
            " 'smoothness error' 'compactness error' 'concavity error'\n",
            " 'concave points error' 'symmetry error' 'fractal dimension error'\n",
            " 'worst radius' 'worst texture' 'worst perimeter' 'worst area'\n",
            " 'worst smoothness' 'worst compactness' 'worst concavity'\n",
            " 'worst concave points' 'worst symmetry' 'worst fractal dimension']\n",
            "Labels:  ['malignant' 'benign']\n"
          ]
        }
      ]
    },
    {
      "cell_type": "code",
      "source": [
        "# print data(feature)shape\n",
        "cancer.data.shape"
      ],
      "metadata": {
        "colab": {
          "base_uri": "https://localhost:8080/"
        },
        "id": "jHoza0I26FWQ",
        "outputId": "39d466f6-0973-48f3-84d7-a7766b19f88e"
      },
      "execution_count": null,
      "outputs": [
        {
          "output_type": "execute_result",
          "data": {
            "text/plain": [
              "(569, 30)"
            ]
          },
          "metadata": {},
          "execution_count": 5
        }
      ]
    },
    {
      "cell_type": "code",
      "source": [
        "# Import train_test_split function\n",
        "from sklearn.model_selection import train_test_split\n",
        "\n",
        "# Split dataset into training set and test set\n",
        "X_train, X_test, y_train, y_test = train_test_split(cancer.data, cancer.target, test_size=0.3,random_state=109) # 70% training and 30% test\n"
      ],
      "metadata": {
        "id": "41D8kRZf6F35"
      },
      "execution_count": null,
      "outputs": []
    },
    {
      "cell_type": "code",
      "source": [
        "#Import svm model\n",
        "from sklearn import svm\n",
        "\n",
        "#Create a svm Classifier\n",
        "clf = svm.SVC(kernel='linear') # Linear Kernel\n",
        "\n",
        "#Train the model using the training sets\n",
        "clf.fit(X_train, y_train)\n",
        "\n",
        "#Predict the response for test dataset\n",
        "y_pred = clf.predict(X_test)"
      ],
      "metadata": {
        "id": "ZXycsm746Lr_"
      },
      "execution_count": null,
      "outputs": []
    },
    {
      "cell_type": "code",
      "source": [],
      "metadata": {
        "id": "eOlFyLJZ5xfB"
      },
      "execution_count": null,
      "outputs": []
    },
    {
      "cell_type": "code",
      "source": [
        "#Import scikit-learn metrics module for accuracy calculation\n",
        "from sklearn import metrics\n",
        "\n",
        "# Model Accuracy: how often is the classifier correct?\n",
        "print(\"Accuracy:\",metrics.accuracy_score(y_test, y_pred))\n"
      ],
      "metadata": {
        "colab": {
          "base_uri": "https://localhost:8080/"
        },
        "id": "A2HeSlUP6OJR",
        "outputId": "18a7ebf2-ed8f-4621-beba-440ef8b24678"
      },
      "execution_count": null,
      "outputs": [
        {
          "output_type": "stream",
          "name": "stdout",
          "text": [
            "Accuracy: 0.9649122807017544\n"
          ]
        }
      ]
    },
    {
      "cell_type": "code",
      "source": [
        "# Model Precision: what percentage of positive tuples are labeled as such?\n",
        "print(\"Precision:\",metrics.precision_score(y_test, y_pred))\n",
        "\n",
        "# Model Recall: what percentage of positive tuples are labelled as such?\n",
        "print(\"Recall:\",metrics.recall_score(y_test, y_pred))\n"
      ],
      "metadata": {
        "colab": {
          "base_uri": "https://localhost:8080/"
        },
        "id": "rMIHJ90q6Qj9",
        "outputId": "d5692618-43b6-4373-812e-22b20c61740a"
      },
      "execution_count": null,
      "outputs": [
        {
          "output_type": "stream",
          "name": "stdout",
          "text": [
            "Precision: 0.9811320754716981\n",
            "Recall: 0.9629629629629629\n"
          ]
        }
      ]
    },
    {
      "cell_type": "code",
      "source": [],
      "metadata": {
        "id": "oTCUAM9E6SZW"
      },
      "execution_count": null,
      "outputs": []
    },
    {
      "cell_type": "code",
      "source": [
        "from sklearn.datasets import load_iris\n",
        "from sklearn.model_selection import train_test_split\n",
        "from sklearn.preprocessing import StandardScaler\n",
        "from sklearn.linear_model import Ridge\n",
        "from sklearn.metrics import mean_squared_error\n",
        "\n",
        "iris = load_iris()\n",
        "X = iris.data[:, :2]\n",
        "y = (iris.target != 0) * 1\n",
        "\n",
        "X_train, X_test, y_train, y_test = train_test_split(X, y, test_size=0.2, random_state=42)\n",
        "\n",
        "scaler = StandardScaler().fit(X_train)\n",
        "X_train = scaler.transform(X_train)\n",
        "X_test = scaler.transform(X_test)\n",
        "\n",
        "models = {}\n",
        "for i in range(1, 100):\n",
        "  models[i] = Ridge(alpha=1)\n",
        "  models[i].fit(X_train[:-i, :], y_train[:-i])\n",
        "  print(f\"Step: {i}\")\n",
        "  print(mean_squared_error(models[i].predict(X_test), y_test))"
      ],
      "metadata": {
        "colab": {
          "base_uri": "https://localhost:8080/"
        },
        "id": "Talpb5Ma6SJ_",
        "outputId": "496fa321-e229-406d-c6a6-6aa761fed65f"
      },
      "execution_count": null,
      "outputs": [
        {
          "output_type": "stream",
          "name": "stdout",
          "text": [
            "Step: 1\n",
            "0.055959042835537556\n",
            "Step: 2\n",
            "0.05584923519766454\n",
            "Step: 3\n",
            "0.05596052307975981\n",
            "Step: 4\n",
            "0.055380878232372276\n",
            "Step: 5\n",
            "0.05527156781172459\n",
            "Step: 6\n",
            "0.05567626127467214\n",
            "Step: 7\n",
            "0.0553181800742351\n",
            "Step: 8\n",
            "0.05493836166340592\n",
            "Step: 9\n",
            "0.05490467085791164\n",
            "Step: 10\n",
            "0.05532876180906956\n",
            "Step: 11\n",
            "0.05527399087423489\n",
            "Step: 12\n",
            "0.054930319671275415\n",
            "Step: 13\n",
            "0.05484283306894864\n",
            "Step: 14\n",
            "0.05551796639594838\n",
            "Step: 15\n",
            "0.05563038317470405\n",
            "Step: 16\n",
            "0.05613164660419563\n",
            "Step: 17\n",
            "0.056113600873686845\n",
            "Step: 18\n",
            "0.05613973909997439\n",
            "Step: 19\n",
            "0.05661655515609325\n",
            "Step: 20\n",
            "0.056402804204151544\n",
            "Step: 21\n",
            "0.05586537688167602\n",
            "Step: 22\n",
            "0.05591543568498477\n",
            "Step: 23\n",
            "0.05570132879901382\n",
            "Step: 24\n",
            "0.05653359628500691\n",
            "Step: 25\n",
            "0.05589250611785198\n",
            "Step: 26\n",
            "0.056041087710983296\n",
            "Step: 27\n",
            "0.05568685508351586\n",
            "Step: 28\n",
            "0.055844242011935476\n",
            "Step: 29\n",
            "0.05680954788320114\n",
            "Step: 30\n",
            "0.056444657777046874\n",
            "Step: 31\n",
            "0.05574831153570252\n",
            "Step: 32\n",
            "0.05550203038172507\n",
            "Step: 33\n",
            "0.05543629193567616\n",
            "Step: 34\n",
            "0.054940387136328914\n",
            "Step: 35\n",
            "0.055077139989418884\n",
            "Step: 36\n",
            "0.0550533131659748\n",
            "Step: 37\n",
            "0.054697126013596255\n",
            "Step: 38\n",
            "0.05479276241546975\n",
            "Step: 39\n",
            "0.0547028262092256\n",
            "Step: 40\n",
            "0.054876423510926024\n",
            "Step: 41\n",
            "0.0545860521339165\n",
            "Step: 42\n",
            "0.05480547287158237\n",
            "Step: 43\n",
            "0.054274238033640315\n",
            "Step: 44\n",
            "0.054428383832632106\n",
            "Step: 45\n",
            "0.05443915440070414\n",
            "Step: 46\n",
            "0.05383935708096708\n",
            "Step: 47\n",
            "0.054216179206542\n",
            "Step: 48\n",
            "0.05449632378092384\n",
            "Step: 49\n",
            "0.05471752913345397\n",
            "Step: 50\n",
            "0.05510463583097482\n",
            "Step: 51\n",
            "0.05529880839823468\n",
            "Step: 52\n",
            "0.0560248880763086\n",
            "Step: 53\n",
            "0.05636774731263747\n",
            "Step: 54\n",
            "0.05711428741852663\n",
            "Step: 55\n",
            "0.05673914898523575\n",
            "Step: 56\n",
            "0.05795416142219518\n",
            "Step: 57\n",
            "0.0581892137014149\n",
            "Step: 58\n",
            "0.058050175566982866\n",
            "Step: 59\n",
            "0.0581109802938619\n",
            "Step: 60\n",
            "0.05717198530185526\n",
            "Step: 61\n",
            "0.056090294756547476\n",
            "Step: 62\n",
            "0.0562813495143931\n",
            "Step: 63\n",
            "0.05663735637908036\n",
            "Step: 64\n",
            "0.05601191318930222\n",
            "Step: 65\n",
            "0.05686433992028237\n",
            "Step: 66\n",
            "0.05701127938369816\n",
            "Step: 67\n",
            "0.05672235370083427\n",
            "Step: 68\n",
            "0.05764440197258464\n",
            "Step: 69\n",
            "0.05848118744543978\n",
            "Step: 70\n",
            "0.05892334623299666\n",
            "Step: 71\n",
            "0.05789449016326456\n",
            "Step: 72\n",
            "0.05806134303612599\n",
            "Step: 73\n",
            "0.05796958438499264\n",
            "Step: 74\n",
            "0.05685973066855017\n",
            "Step: 75\n",
            "0.05512212905146448\n",
            "Step: 76\n",
            "0.056334174751174707\n",
            "Step: 77\n",
            "0.05567652873299563\n",
            "Step: 78\n",
            "0.05478084824512696\n",
            "Step: 79\n",
            "0.05471799747423926\n",
            "Step: 80\n",
            "0.05436037530237468\n",
            "Step: 81\n",
            "0.053932661478649474\n",
            "Step: 82\n",
            "0.05453779741905809\n",
            "Step: 83\n",
            "0.05462935760266788\n",
            "Step: 84\n",
            "0.05329258360765547\n",
            "Step: 85\n",
            "0.05404490233217929\n",
            "Step: 86\n",
            "0.05297648352423312\n",
            "Step: 87\n",
            "0.054105622664543836\n",
            "Step: 88\n",
            "0.056911787875960934\n",
            "Step: 89\n",
            "0.057993059033843775\n",
            "Step: 90\n",
            "0.05814357605938991\n",
            "Step: 91\n",
            "0.05813603402763154\n",
            "Step: 92\n",
            "0.058262766260672276\n",
            "Step: 93\n",
            "0.05968049677822393\n",
            "Step: 94\n",
            "0.06254166943605481\n",
            "Step: 95\n",
            "0.061035676378499014\n",
            "Step: 96\n",
            "0.06184973338379999\n",
            "Step: 97\n",
            "0.06395892427572922\n",
            "Step: 98\n",
            "0.0594467223533015\n",
            "Step: 99\n",
            "0.06400572743332582\n"
          ]
        }
      ]
    },
    {
      "cell_type": "code",
      "source": [
        "import numpy as np\n",
        "import matplotlib.pyplot as plt\n",
        "from sklearn import svm\n",
        "\n",
        "\n",
        "# обучающая выборка с тремя признаками (третий - константа +1)\n",
        "x_train = [[10, 50], [20, 30], [25, 30], [20, 60], [15, 70], [40, 40], [30, 45], [20, 45], [40, 30], [7, 35]]\n",
        "x_train = [x + [1] for x in x_train]\n",
        "y_train = [-1, 1, 1, -1, -1, 1, 1, -1, 1, -1]\n",
        "\n",
        "clf = svm.SVC(kernel='linear')      # SVM с линейным ядром\n",
        "clf.fit(x_train, y_train)           # нахождение вектора w по обучающей выборке\n",
        "\n",
        "lin_clf = svm.LinearSVC()           # SVM для линейно разделимой выборки (используется для получения вектора w)\n",
        "lin_clf.fit(x_train, y_train)       # нахождение вектора w по обучающей выборке\n",
        "\n",
        "v = clf.support_vectors_            # выделение опорных векторов\n",
        "w = lin_clf.coef_[0]                # коэффициенты линейной модели\n",
        "print(w, v, sep='\\n')\n",
        "\n",
        "\n",
        "# формирование графиков для визуализации полученных результатов\n",
        "x_train = np.array(x_train)\n",
        "y_train = np.array(y_train)\n",
        "line_x = list(range(max(x_train[:, 0])))    # формирование графика разделяющей линии\n",
        "line_y = [-x*w[0]/w[1] - w[2] for x in line_x]\n",
        "\n",
        "x_0 = x_train[y_train == 1]                 # формирование точек для 1-го\n",
        "x_1 = x_train[y_train == -1]                # и 2-го классов\n",
        "\n",
        "plt.scatter(x_0[:, 0], x_0[:, 1], color='red')\n",
        "plt.scatter(x_1[:, 0], x_1[:, 1], color='blue')\n",
        "plt.scatter(v[:, 0], v[:, 1], s=70, edgecolor=None, linewidths=0, marker='s')\n",
        "plt.plot(line_x, line_y, color='green')\n",
        "\n",
        "plt.xlim([0, 45])\n",
        "plt.ylim([0, 75])\n",
        "plt.ylabel(\"длина\")\n",
        "plt.xlabel(\"ширина\")\n",
        "plt.grid(True)"
      ],
      "metadata": {
        "colab": {
          "base_uri": "https://localhost:8080/",
          "height": 518
        },
        "id": "VKjTxd9Z6seH",
        "outputId": "d90fcd47-a678-4168-fbfd-c9f526322b24"
      },
      "execution_count": null,
      "outputs": [
        {
          "output_type": "stream",
          "name": "stdout",
          "text": [
            "[ 0.24371831 -0.13071247  0.01218592]\n",
            "[[20. 45.  1.]\n",
            " [20. 30.  1.]\n",
            " [30. 45.  1.]]\n"
          ]
        },
        {
          "output_type": "display_data",
          "data": {
            "text/plain": [
              "<Figure size 640x480 with 1 Axes>"
            ],
            "image/png": "[encoded data removed]"
          },
          "metadata": {}
        }
      ]
    },
    {
      "cell_type": "code",
      "source": [
        "x_train = [[30, 10], [15, 50], [10, 50], [20, 30], [25, 30], [20, 60], [15, 70], [40, 40], [30, 45], [20, 45], [40, 30], [7, 35]]\n",
        "x_train = [x + [1] for x in x_train]\n",
        "y_train = [-1, 1, -1, 1, 1, -1, -1, 1, 1, -1, 1, -1]\n",
        "\n",
        "clf = svm.SVC(kernel='linear')  # SVM с линейным ядром\n",
        "clf.fit(x_train, y_train)  # нахождение вектора w по обучающей выборке\n",
        "y_pr = clf.predict(x_train)  # проверка на обучающей выборке\n",
        "print(np.array(y_train) - np.array(y_pr))  # нули - без ошибок; иначе - ошибка\n",
        "\n",
        "v = clf.support_vectors_  # выделение опорных векторов\n",
        "print(v)\n",
        "\n",
        "# формирование графиков для визуализации полученных результатов\n",
        "x_train = np.array(x_train)\n",
        "y_train = np.array(y_train)\n",
        "\n",
        "x_0 = x_train[y_train == 1]  # формирование точек для 1-го\n",
        "x_1 = x_train[y_train == -1]  # и 2-го классов\n",
        "\n",
        "plt.scatter(x_0[:, 0], x_0[:, 1], color='red')\n",
        "plt.scatter(x_1[:, 0], x_1[:, 1], color='blue')\n",
        "plt.scatter(v[:, 0], v[:, 1], s=70, edgecolor=None, linewidths=0, marker='s')\n",
        "\n",
        "plt.xlim([0, 45])\n",
        "plt.ylim([0, 75])\n",
        "plt.ylabel(\"длина\")\n",
        "plt.xlabel(\"ширина\")\n",
        "plt.grid(True)\n",
        "plt.show()"
      ],
      "metadata": {
        "id": "UHlncg3Y6veO",
        "outputId": "02ca63dc-fff7-4cbb-cf0a-c6ffd8fa0ef4",
        "colab": {
          "base_uri": "https://localhost:8080/",
          "height": 605
        }
      },
      "execution_count": null,
      "outputs": [
        {
          "output_type": "stream",
          "name": "stdout",
          "text": [
            "[-2  2  0  0  0  0  0  0  0  0  0  0]\n",
            "[[30. 10.  1.]\n",
            " [20. 60.  1.]\n",
            " [20. 45.  1.]\n",
            " [ 7. 35.  1.]\n",
            " [15. 50.  1.]\n",
            " [20. 30.  1.]\n",
            " [25. 30.  1.]\n",
            " [30. 45.  1.]]\n"
          ]
        },
        {
          "output_type": "display_data",
          "data": {
            "text/plain": [
              "<Figure size 640x480 with 1 Axes>"
            ],
            "image/png": "[encoded data removed]"
          },
          "metadata": {}
        }
      ]
    }
  ]
}