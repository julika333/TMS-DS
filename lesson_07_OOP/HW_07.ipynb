{
  "nbformat": 4,
  "nbformat_minor": 0,
  "metadata": {
    "colab": {
      "provenance": [],
      "authorship_tag": "ABX9TyOl9qyrcKBbIkNa0ZmABsnI",
      "include_colab_link": true
    },
    "kernelspec": {
      "name": "python3",
      "display_name": "Python 3"
    },
    "language_info": {
      "name": "python"
    }
  },
  "cells": [
    {
      "cell_type": "markdown",
      "metadata": {
        "id": "view-in-github",
        "colab_type": "text"
      },
      "source": [
        "<a href=\"https://colab.research.google.com/github/julika333/TMS-DS/blob/main/lesson_07_OOP/HW_07.ipynb\" target=\"_parent\"><img src=\"https://colab.research.google.com/assets/colab-badge.svg\" alt=\"Open In Colab\"/></a>"
      ]
    },
    {
      "cell_type": "markdown",
      "source": [
        "**1) Создать класс Money для работы с денежными суммами. Число должно быть представлено двумя полями: для рублей и для копеек. Копейки при выводе на экран должна быть отделена от целой части запятой. Реализовать сложение, вычитание, деление сумм, деление суммы на дробное число, умножение на дробное число и операции сравнения.**\n"
      ],
      "metadata": {
        "id": "cnHAD9zeoz21"
      }
    },
    {
      "cell_type": "code",
      "source": [
        "class Money:\n",
        "    def __init__(self, rubles=0, coins=0):\n",
        "        self.rubles = rubles\n",
        "        self.coins = coins\n",
        "        self.total_coins = rubles * 100 + coins\n",
        "\n",
        "    def show(self):\n",
        "        rubles = self.total_coins // 100\n",
        "        coins = self.total_coins % 100\n",
        "        print(f\"{rubles},{coins:02d}\")\n",
        "\n",
        "    def add(self, other):\n",
        "        return Money(0, self.total_coins + other.total_coins)\n",
        "\n",
        "    def sub(self, other):\n",
        "        return Money(0, self.total_coins - other.total_coins)\n",
        "\n",
        "    def mul(self, number):\n",
        "        return Money(0, int(self.total_coins * number))\n",
        "\n",
        "    def div(self, other):\n",
        "        if isinstance(other, Money):\n",
        "            return Money(0, int(self.total_coins / other.total_coins))\n",
        "        else:\n",
        "            return Money(0, int(self.total_coins / other))\n",
        "\n",
        "    def is_eq(self, other):\n",
        "        return self.total_coins == other.total_coins\n",
        "\n",
        "    def is_lt(self, other):\n",
        "        return self.total_coins < other.total_coins\n",
        "\n",
        "    def is_le(self, other):\n",
        "        return self.total_coins <= other.total_coins\n",
        "\n",
        "    def is_gt(self, other):\n",
        "        return self.total_coins > other.total_coins\n",
        "\n",
        "    def is_ge(self, other):\n",
        "        return self.total_coins >= other.total_coins"
      ],
      "metadata": {
        "id": "7CUSM9Tfo1Nz"
      },
      "execution_count": 33,
      "outputs": []
    },
    {
      "cell_type": "code",
      "source": [
        "money1 = Money(10, 50)\n",
        "money2 = Money(5, 75)\n",
        "# Сложение\n",
        "money1.add(money2).show()\n",
        "# Вычитание\n",
        "money1.sub(money2).show()\n",
        "# Умножение на дробное число\n",
        "money1.mul(2.5).show()\n",
        "# Деление суммы на дробное число\n",
        "money1.div(2.3).show()\n",
        "# Деление суммы на сумму\n",
        "money1.div(money2).show()\n",
        "# Сравнение\n",
        "print(money1.is_gt(money2))\n"
      ],
      "metadata": {
        "colab": {
          "base_uri": "https://localhost:8080/"
        },
        "id": "9EwYFjTEqFJg",
        "outputId": "1043b78d-a95d-4bb9-f9b1-480d03720700"
      },
      "execution_count": 34,
      "outputs": [
        {
          "output_type": "stream",
          "name": "stdout",
          "text": [
            "16,25\n",
            "4,75\n",
            "26,25\n",
            "4,56\n",
            "0,01\n",
            "True\n"
          ]
        }
      ]
    },
    {
      "cell_type": "markdown",
      "source": [
        "**2) Создать класс матрица и реализовать алгоритмы математических операций над матрицами (сложение друг c другом, умножение на скалярную величину).**\n"
      ],
      "metadata": {
        "id": "iBou3n8p-vFT"
      }
    },
    {
      "cell_type": "code",
      "source": [
        "class Matrix:\n",
        "    def __init__(self, matrix):\n",
        "        self.matrix = matrix\n",
        "        self.rows = len(matrix)\n",
        "        self.cols = len(matrix[0])\n",
        "\n",
        "    def show(self):\n",
        "        result = \"\"\n",
        "        for row in self.matrix:\n",
        "            row_str = \"\"\n",
        "            for item in row:\n",
        "                row_str += str(item) + \" \"\n",
        "            result += row_str.strip() + \"\\n\"\n",
        "        print(result.rstrip())\n",
        "        # return '\\n'.join([' '.join(map(str, row)) for row in self.matrix])\n",
        "\n",
        "    def add(self, other):\n",
        "        if self.rows != other.rows or self.cols != other.cols:\n",
        "            raise ValueError(\"Матрицы разных размеров не могут быть сложены\")\n",
        "        result = [[self.matrix[i][j] + other.matrix[i][j] for j in range(self.cols)] for i in range(self.rows)]\n",
        "        return Matrix(result)\n",
        "\n",
        "    def scalar_multiply(self, scalar):\n",
        "        result = [[self.matrix[i][j] * scalar for j in range(self.cols)] for i in range(self.rows)]\n",
        "        return Matrix(result)"
      ],
      "metadata": {
        "id": "k1Lb3o1zqier"
      },
      "execution_count": 36,
      "outputs": []
    },
    {
      "cell_type": "code",
      "source": [
        "matrix1 = Matrix([[1, 2], [3, 4]])\n",
        "matrix2 = Matrix([[5, 6], [7, 8]])\n",
        "\n",
        "print(\"Матрица 1:\")\n",
        "matrix1.show()\n",
        "print(\"\\nМатрица 2:\")\n",
        "matrix2.show()\n",
        "\n",
        "# Сложение матриц\n",
        "print(\"\\nСумма матриц:\")\n",
        "matrix1.add(matrix2).show()\n",
        "\n",
        "# Умножение матрицы на скаляр\n",
        "scalar = 2\n",
        "print(f\"\\nУмножение матрицы 1 на скаляр ({scalar}):\")\n",
        "matrix1.scalar_multiply(scalar).show()"
      ],
      "metadata": {
        "colab": {
          "base_uri": "https://localhost:8080/"
        },
        "id": "h-T7PE8p_en2",
        "outputId": "811d54eb-2ddc-422a-b445-b9f643c53625"
      },
      "execution_count": 38,
      "outputs": [
        {
          "output_type": "stream",
          "name": "stdout",
          "text": [
            "Матрица 1:\n",
            "1 2\n",
            "3 4\n",
            "\n",
            "Матрица 2:\n",
            "5 6\n",
            "7 8\n",
            "\n",
            "Сумма матриц:\n",
            "6 8\n",
            "10 12\n",
            "\n",
            "Умножение матрицы 1 на скаляр (2):\n",
            "2 4\n",
            "6 8\n"
          ]
        }
      ]
    },
    {
      "cell_type": "markdown",
      "source": [
        "**3) Задание со звездочкой: необходимо реализовать набор операций над одномерными и двумерными структурами. Каждой структуре необходимо выделить свой класс. При описании классов использовать принципы ООП.**"
      ],
      "metadata": {
        "id": "hUobECChC1jf"
      }
    },
    {
      "cell_type": "code",
      "source": [
        "class Vector:\n",
        "    def __init__(self, elements):\n",
        "        self.elements = elements\n",
        "\n",
        "    def show(self):\n",
        "        row_str = \"\"\n",
        "        for item in self.elements:\n",
        "          row_str += str(item) + \" \"\n",
        "        print(row_str.strip())\n",
        "\n",
        "    def add(self, other):\n",
        "        if len(self.elements) != len(other.elements):\n",
        "            raise ValueError(\"Вектора разной длины не могут быть сложены\")\n",
        "        return Vector([self.elements[i] + other.elements[i] for i in range(len(self.elements))])\n",
        "\n",
        "    def scalar_multiply(self, scalar):\n",
        "        return Vector([x * scalar for x in self.elements])\n",
        "\n",
        "\n",
        "class Matrix2(Vector):\n",
        "    def __init__(self, rows):\n",
        "        super().__init__(rows)\n",
        "        self.__rows = len(rows)\n",
        "        self.__cols = len(rows[0])\n",
        "\n",
        "    @property\n",
        "    def rows(self):\n",
        "      return self.__rows\n",
        "\n",
        "    @property\n",
        "    def cols(self):\n",
        "      return self.__cols\n",
        "\n",
        "    def show(self):\n",
        "        for row in self.elements:\n",
        "          Vector(row).show()\n",
        "\n",
        "    def add(self, other):\n",
        "        if self.rows != other.rows or self.cols != other.cols:\n",
        "            raise ValueError(\"Матрицы разных размеров не могут быть сложены\")\n",
        "        result_rows = [Vector(self.elements[i]).add(Vector(other.elements[i])) for i in range(self.rows)]\n",
        "        return Matrix([row.elements for row in result_rows])\n",
        "\n",
        "    def scalar_multiply(self, scalar):\n",
        "        result_rows = [Vector(row).scalar_multiply(scalar).elements for row in self.elements]\n",
        "        return Matrix(result_rows)\n"
      ],
      "metadata": {
        "id": "7HnSlhBL_kjl"
      },
      "execution_count": 70,
      "outputs": []
    },
    {
      "cell_type": "code",
      "source": [
        "import numpy as np\n",
        "\n",
        "\n",
        "vector1 = Vector([1, 2, 3])\n",
        "vector2 = Vector([4, 5, 6])\n",
        "print(\"Вектор 1:\")\n",
        "vector1.show()\n",
        "print(\"Вектор 2:\")\n",
        "vector2.show()\n",
        "\n",
        "# Умножение вектора на скаляр\n",
        "scalar = 3\n",
        "print(f\"\\nУмножение вектора на скаляр ({scalar}):\")\n",
        "vector1.scalar_multiply(scalar).show()\n",
        "\n",
        "matrix1 = Matrix2([[1, 2], [3, 4]])\n",
        "matrix2 = Matrix2([[5, 6], [7, 8]])\n",
        "\n",
        "print(\"\\nМатрица 1:\")\n",
        "matrix1.show()\n",
        "print(\"\\nМатрица 2:\")\n",
        "matrix2.show()\n",
        "print(f\"Rows: {matrix2.rows}, cols: {matrix2.cols}\")\n",
        "# Сложение матриц\n",
        "print(\"\\nСумма матриц:\")\n",
        "matrix1.add(matrix2).show()\n",
        "\n",
        "# Умножение матрицы на скаляр\n",
        "scalar = 2\n",
        "print(f\"\\nУмножение матрицы 1 на скаляр ({scalar}):\")\n",
        "matrix1.scalar_multiply(scalar).show()"
      ],
      "metadata": {
        "colab": {
          "base_uri": "https://localhost:8080/"
        },
        "id": "IT8avmrbImzd",
        "outputId": "05321f43-ad57-4ba5-b442-688d417160bb"
      },
      "execution_count": 71,
      "outputs": [
        {
          "output_type": "stream",
          "name": "stdout",
          "text": [
            "Вектор 1:\n",
            "1 2 3\n",
            "Вектор 2:\n",
            "4 5 6\n",
            "\n",
            "Умножение вектора на скаляр (3):\n",
            "3 6 9\n",
            "\n",
            "Матрица 1:\n",
            "1 2\n",
            "3 4\n",
            "\n",
            "Матрица 2:\n",
            "5 6\n",
            "7 8\n",
            "Rows: 2, cols: 2\n",
            "\n",
            "Сумма матриц:\n",
            "6 8\n",
            "10 12\n",
            "\n",
            "Умножение матрицы 1 на скаляр (2):\n",
            "2 4\n",
            "6 8\n"
          ]
        }
      ]
    },
    {
      "cell_type": "code",
      "source": [],
      "metadata": {
        "id": "gDdzSjy9JMpU"
      },
      "execution_count": null,
      "outputs": []
    }
  ]
}