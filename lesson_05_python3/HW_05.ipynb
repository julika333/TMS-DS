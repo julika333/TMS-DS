{
  "nbformat": 4,
  "nbformat_minor": 0,
  "metadata": {
    "colab": {
      "provenance": [],
      "authorship_tag": "ABX9TyOIi2yM0ZTlso97mYhzasXH",
      "include_colab_link": true
    },
    "kernelspec": {
      "name": "python3",
      "display_name": "Python 3"
    },
    "language_info": {
      "name": "python"
    }
  },
  "cells": [
    {
      "cell_type": "markdown",
      "metadata": {
        "id": "view-in-github",
        "colab_type": "text"
      },
      "source": [
        "<a href=\"https://colab.research.google.com/github/julika333/TMS-DS/blob/develop/lesson_05_python3/HW_05.ipynb\" target=\"_parent\"><img src=\"https://colab.research.google.com/assets/colab-badge.svg\" alt=\"Open In Colab\"/></a>"
      ]
    },
    {
      "cell_type": "markdown",
      "source": [
        "1) Напишите функцию для разделения строки и преобразования ее в список\n",
        "слов. Пример \"Robin Singh\" ==> [\"Robin\", \"Singh\"]"
      ],
      "metadata": {
        "id": "MVvZdm5AIkYi"
      }
    },
    {
      "cell_type": "code",
      "source": [
        "def split_string(input_str) -> list:\n",
        "    return input_str.split(\" \")\n",
        "\n",
        "\n",
        "split_string(\"Robin Singh\")"
      ],
      "metadata": {
        "id": "E3WeOP52ILeb",
        "outputId": "4f33f7d6-9f7b-461e-fc43-ad2ce8e0b4cc",
        "colab": {
          "base_uri": "https://localhost:8080/"
        }
      },
      "execution_count": 3,
      "outputs": [
        {
          "output_type": "execute_result",
          "data": {
            "text/plain": [
              "['Robin', 'Singh']"
            ]
          },
          "metadata": {},
          "execution_count": 3
        }
      ]
    },
    {
      "cell_type": "markdown",
      "source": [
        "2) Натан любит кататься на велосипеде. Поскольку Натан знает, как важно\n",
        "избегать обезвоживания, он выпивает 0,5 литра воды за час езды на\n",
        "велосипеде. Вам дано время в часах, и вам нужно вернуть количество\n",
        "литров, которое выпьет Натан, округленное до наименьшего значения.\n",
        "Пример time = 3 ----> litres = 1"
      ],
      "metadata": {
        "id": "t14H-T7vJKbe"
      }
    },
    {
      "cell_type": "code",
      "source": [
        "def litres(time) -> int:\n",
        "  litres = time * 0.5\n",
        "  return int(litres)\n",
        "\n",
        "litres(3)"
      ],
      "metadata": {
        "id": "_IiDeFodJGk5",
        "outputId": "cdb55410-7221-4add-f74b-f94924eacb80",
        "colab": {
          "base_uri": "https://localhost:8080/"
        }
      },
      "execution_count": 4,
      "outputs": [
        {
          "output_type": "execute_result",
          "data": {
            "text/plain": [
              "1"
            ]
          },
          "metadata": {},
          "execution_count": 4
        }
      ]
    },
    {
      "cell_type": "markdown",
      "source": [
        "3) Создайте функцию, которая возвращает список целых чисел от n до 1,\n",
        "где n>0. Пример: n=5-->[5,4,3,2,1]\n"
      ],
      "metadata": {
        "id": "H02QlgbDfIEm"
      }
    },
    {
      "cell_type": "code",
      "source": [
        "def generate_list(n) -> list:\n",
        "  return list(range(n, 0, -1))\n",
        "\n",
        "generate_list(5)"
      ],
      "metadata": {
        "id": "tDg9_l5LfVsf",
        "outputId": "16331f00-9ccb-4975-91f5-734ccaddd352",
        "colab": {
          "base_uri": "https://localhost:8080/"
        }
      },
      "execution_count": 5,
      "outputs": [
        {
          "output_type": "execute_result",
          "data": {
            "text/plain": [
              "[5, 4, 3, 2, 1]"
            ]
          },
          "metadata": {},
          "execution_count": 5
        }
      ]
    },
    {
      "cell_type": "markdown",
      "source": [
        "4) Учитывая год, верните столетие, в котором он находится.\n",
        "Пример 1705 --> 18 1900 --> 19 1601 --> 17"
      ],
      "metadata": {
        "id": "qMRngEecflDJ"
      }
    },
    {
      "cell_type": "code",
      "source": [
        "def year_to_century(year):\n",
        "    return (year - 1) // 100 + 1\n",
        "\n",
        "year_to_century(1705)"
      ],
      "metadata": {
        "id": "Ysd9aDjEfi7q",
        "outputId": "e53bd267-1caf-4a73-d4ab-02f72eff77e9",
        "colab": {
          "base_uri": "https://localhost:8080/"
        }
      },
      "execution_count": 9,
      "outputs": [
        {
          "output_type": "execute_result",
          "data": {
            "text/plain": [
              "18"
            ]
          },
          "metadata": {},
          "execution_count": 9
        }
      ]
    },
    {
      "cell_type": "markdown",
      "source": [
        "5) Учитывая случайное неотрицательное число, вам необходимо вернуть\n",
        "цифры этого числа в массиве в обратном порядке. 35231 => [1,3,2,5,3]"
      ],
      "metadata": {
        "id": "ZtFgdib3gEEj"
      }
    },
    {
      "cell_type": "code",
      "source": [
        "def reverse_digits(number):\n",
        "    # new_str = str(number)[::-1]\n",
        "    # new_list = []\n",
        "    # for char in new_str:\n",
        "    #   new_list.append(char)\n",
        "    # return(new_list)\n",
        "    return [int(char) for char in str(number)[::-1]]\n",
        "\n",
        "reverse_digits(35231)"
      ],
      "metadata": {
        "id": "cxiI2cC3f3tV",
        "outputId": "9b6b7052-45f8-440b-eda2-51eec23c13c9",
        "colab": {
          "base_uri": "https://localhost:8080/"
        }
      },
      "execution_count": 17,
      "outputs": [
        {
          "output_type": "execute_result",
          "data": {
            "text/plain": [
              "[1, 3, 2, 5, 3]"
            ]
          },
          "metadata": {},
          "execution_count": 17
        }
      ]
    },
    {
      "cell_type": "markdown",
      "source": [
        "6) Получить квадратные матрицы порядка n (через список как на\n",
        "занятии), элементами которых являются заданные\n",
        "действительные числа 1, 2, ..., n*n, расположенные в ней по схемам,\n",
        "которые приведены на рисунках"
      ],
      "metadata": {
        "id": "eL5yEfHehJMj"
      }
    },
    {
      "cell_type": "code",
      "source": [
        "def create_matrix_vertical(n):\n",
        "    matrix = [[0] * n for _ in range(n)]\n",
        "    num = 1\n",
        "    for col in range(n):\n",
        "        if col % 2 == 0:\n",
        "            for row in range(n):\n",
        "                matrix[row][col] = num\n",
        "                num += 1\n",
        "        else:\n",
        "            for row in range(n-1, -1, -1):\n",
        "                matrix[row][col] = num\n",
        "                num += 1\n",
        "    return matrix\n",
        "\n",
        "def create_matrix_horizontal(n):\n",
        "    matrix = [[0] * n for _ in range(n)]\n",
        "    num = 1\n",
        "    for row in range(n):\n",
        "        if row % 2 == 0:\n",
        "            for col in range(n):\n",
        "                matrix[row][col] = num\n",
        "                num += 1\n",
        "        else:\n",
        "            for col in range(n-1, -1, -1):\n",
        "                matrix[row][col] = num\n",
        "                num += 1\n",
        "    return matrix\n",
        "\n",
        "n = 5\n",
        "print(\"Vertical:\")\n",
        "for row in create_matrix_vertical(n):\n",
        "    print(row)\n",
        "\n",
        "print(\"Horizontal:\")\n",
        "for row in create_matrix_horizontal(n):\n",
        "    print(row)\n"
      ],
      "metadata": {
        "id": "bhMClugZgcSB",
        "outputId": "4b7a4487-74d3-4632-f703-3ecf7ec6e01f",
        "colab": {
          "base_uri": "https://localhost:8080/"
        }
      },
      "execution_count": 20,
      "outputs": [
        {
          "output_type": "stream",
          "name": "stdout",
          "text": [
            "Vertical:\n",
            "[1, 10, 11, 20, 21]\n",
            "[2, 9, 12, 19, 22]\n",
            "[3, 8, 13, 18, 23]\n",
            "[4, 7, 14, 17, 24]\n",
            "[5, 6, 15, 16, 25]\n",
            "Horizontal:\n",
            "[1, 2, 3, 4, 5]\n",
            "[10, 9, 8, 7, 6]\n",
            "[11, 12, 13, 14, 15]\n",
            "[20, 19, 18, 17, 16]\n",
            "[21, 22, 23, 24, 25]\n"
          ]
        }
      ]
    },
    {
      "cell_type": "code",
      "source": [],
      "metadata": {
        "id": "IojuBiyYh644"
      },
      "execution_count": null,
      "outputs": []
    }
  ]
}